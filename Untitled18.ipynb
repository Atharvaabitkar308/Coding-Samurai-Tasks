{
 "cells": [
  {
   "cell_type": "code",
   "execution_count": 1,
   "id": "fba7501e-cd33-4c36-87af-9a61808a5136",
   "metadata": {},
   "outputs": [],
   "source": [
    "import numpy as np\n",
    "import pandas as pd\n",
    "from sklearn.model_selection import cross_val_score, KFold\n",
    "from sklearn.linear_model import LinearRegression, Lasso, Ridge\n",
    "from sklearn.tree import DecisionTreeRegressor\n",
    "from sklearn.ensemble import RandomForestRegressor, GradientBoostingRegressor\n",
    "from sklearn.model_selection import train_test_split\n",
    "from sklearn.neighbors import KNeighborsRegressor\n",
    "from sklearn.metrics import accuracy_score, classification_report, confusion_matrix\n",
    "from sklearn.metrics import mean_absolute_error, mean_squared_error, r2_score"
   ]
  },
  {
   "cell_type": "code",
   "execution_count": 5,
   "id": "bfb5998d-c5a5-4f9d-b812-3469303a1908",
   "metadata": {},
   "outputs": [],
   "source": [
    "data = pd.read_csv(r\"C:\\Users\\athar\\OneDrive\\Desktop\\coding samurai\\HousingPrices-Amsterdam-August-2021.csv\")"
   ]
  },
  {
   "cell_type": "code",
   "execution_count": 6,
   "id": "fb641352-b990-49a2-a5ad-2b0b606b1146",
   "metadata": {},
   "outputs": [
    {
     "data": {
      "text/html": [
       "<div>\n",
       "<style scoped>\n",
       "    .dataframe tbody tr th:only-of-type {\n",
       "        vertical-align: middle;\n",
       "    }\n",
       "\n",
       "    .dataframe tbody tr th {\n",
       "        vertical-align: top;\n",
       "    }\n",
       "\n",
       "    .dataframe thead th {\n",
       "        text-align: right;\n",
       "    }\n",
       "</style>\n",
       "<table border=\"1\" class=\"dataframe\">\n",
       "  <thead>\n",
       "    <tr style=\"text-align: right;\">\n",
       "      <th></th>\n",
       "      <th>Unnamed: 0</th>\n",
       "      <th>Address</th>\n",
       "      <th>Zip</th>\n",
       "      <th>Price</th>\n",
       "      <th>Area</th>\n",
       "      <th>Room</th>\n",
       "      <th>Lon</th>\n",
       "      <th>Lat</th>\n",
       "    </tr>\n",
       "  </thead>\n",
       "  <tbody>\n",
       "    <tr>\n",
       "      <th>0</th>\n",
       "      <td>1</td>\n",
       "      <td>Blasiusstraat 8 2, Amsterdam</td>\n",
       "      <td>1091 CR</td>\n",
       "      <td>685000.0</td>\n",
       "      <td>64</td>\n",
       "      <td>3</td>\n",
       "      <td>4.907736</td>\n",
       "      <td>52.356157</td>\n",
       "    </tr>\n",
       "    <tr>\n",
       "      <th>1</th>\n",
       "      <td>2</td>\n",
       "      <td>Kromme Leimuidenstraat 13 H, Amsterdam</td>\n",
       "      <td>1059 EL</td>\n",
       "      <td>475000.0</td>\n",
       "      <td>60</td>\n",
       "      <td>3</td>\n",
       "      <td>4.850476</td>\n",
       "      <td>52.348586</td>\n",
       "    </tr>\n",
       "    <tr>\n",
       "      <th>2</th>\n",
       "      <td>3</td>\n",
       "      <td>Zaaiersweg 11 A, Amsterdam</td>\n",
       "      <td>1097 SM</td>\n",
       "      <td>850000.0</td>\n",
       "      <td>109</td>\n",
       "      <td>4</td>\n",
       "      <td>4.944774</td>\n",
       "      <td>52.343782</td>\n",
       "    </tr>\n",
       "    <tr>\n",
       "      <th>3</th>\n",
       "      <td>4</td>\n",
       "      <td>Tenerifestraat 40, Amsterdam</td>\n",
       "      <td>1060 TH</td>\n",
       "      <td>580000.0</td>\n",
       "      <td>128</td>\n",
       "      <td>6</td>\n",
       "      <td>4.789928</td>\n",
       "      <td>52.343712</td>\n",
       "    </tr>\n",
       "    <tr>\n",
       "      <th>4</th>\n",
       "      <td>5</td>\n",
       "      <td>Winterjanpad 21, Amsterdam</td>\n",
       "      <td>1036 KN</td>\n",
       "      <td>720000.0</td>\n",
       "      <td>138</td>\n",
       "      <td>5</td>\n",
       "      <td>4.902503</td>\n",
       "      <td>52.410538</td>\n",
       "    </tr>\n",
       "    <tr>\n",
       "      <th>...</th>\n",
       "      <td>...</td>\n",
       "      <td>...</td>\n",
       "      <td>...</td>\n",
       "      <td>...</td>\n",
       "      <td>...</td>\n",
       "      <td>...</td>\n",
       "      <td>...</td>\n",
       "      <td>...</td>\n",
       "    </tr>\n",
       "    <tr>\n",
       "      <th>919</th>\n",
       "      <td>920</td>\n",
       "      <td>Ringdijk, Amsterdam</td>\n",
       "      <td>1097 AE</td>\n",
       "      <td>750000.0</td>\n",
       "      <td>117</td>\n",
       "      <td>1</td>\n",
       "      <td>4.927757</td>\n",
       "      <td>52.354173</td>\n",
       "    </tr>\n",
       "    <tr>\n",
       "      <th>920</th>\n",
       "      <td>921</td>\n",
       "      <td>Kleine Beerstraat 31, Amsterdam</td>\n",
       "      <td>1033 CP</td>\n",
       "      <td>350000.0</td>\n",
       "      <td>72</td>\n",
       "      <td>3</td>\n",
       "      <td>4.890612</td>\n",
       "      <td>52.414587</td>\n",
       "    </tr>\n",
       "    <tr>\n",
       "      <th>921</th>\n",
       "      <td>922</td>\n",
       "      <td>Stuyvesantstraat 33 II, Amsterdam</td>\n",
       "      <td>1058 AK</td>\n",
       "      <td>350000.0</td>\n",
       "      <td>51</td>\n",
       "      <td>3</td>\n",
       "      <td>4.856935</td>\n",
       "      <td>52.363256</td>\n",
       "    </tr>\n",
       "    <tr>\n",
       "      <th>922</th>\n",
       "      <td>923</td>\n",
       "      <td>John Blankensteinstraat 51, Amsterdam</td>\n",
       "      <td>1095 MB</td>\n",
       "      <td>599000.0</td>\n",
       "      <td>113</td>\n",
       "      <td>4</td>\n",
       "      <td>4.965731</td>\n",
       "      <td>52.375268</td>\n",
       "    </tr>\n",
       "    <tr>\n",
       "      <th>923</th>\n",
       "      <td>924</td>\n",
       "      <td>S. F. van Ossstraat 334, Amsterdam</td>\n",
       "      <td>1068 JS</td>\n",
       "      <td>300000.0</td>\n",
       "      <td>79</td>\n",
       "      <td>4</td>\n",
       "      <td>4.810678</td>\n",
       "      <td>52.355493</td>\n",
       "    </tr>\n",
       "  </tbody>\n",
       "</table>\n",
       "<p>924 rows × 8 columns</p>\n",
       "</div>"
      ],
      "text/plain": [
       "     Unnamed: 0                                 Address      Zip     Price  \\\n",
       "0             1            Blasiusstraat 8 2, Amsterdam  1091 CR  685000.0   \n",
       "1             2  Kromme Leimuidenstraat 13 H, Amsterdam  1059 EL  475000.0   \n",
       "2             3              Zaaiersweg 11 A, Amsterdam  1097 SM  850000.0   \n",
       "3             4            Tenerifestraat 40, Amsterdam  1060 TH  580000.0   \n",
       "4             5              Winterjanpad 21, Amsterdam  1036 KN  720000.0   \n",
       "..          ...                                     ...      ...       ...   \n",
       "919         920                     Ringdijk, Amsterdam  1097 AE  750000.0   \n",
       "920         921         Kleine Beerstraat 31, Amsterdam  1033 CP  350000.0   \n",
       "921         922       Stuyvesantstraat 33 II, Amsterdam  1058 AK  350000.0   \n",
       "922         923   John Blankensteinstraat 51, Amsterdam  1095 MB  599000.0   \n",
       "923         924      S. F. van Ossstraat 334, Amsterdam  1068 JS  300000.0   \n",
       "\n",
       "     Area  Room       Lon        Lat  \n",
       "0      64     3  4.907736  52.356157  \n",
       "1      60     3  4.850476  52.348586  \n",
       "2     109     4  4.944774  52.343782  \n",
       "3     128     6  4.789928  52.343712  \n",
       "4     138     5  4.902503  52.410538  \n",
       "..    ...   ...       ...        ...  \n",
       "919   117     1  4.927757  52.354173  \n",
       "920    72     3  4.890612  52.414587  \n",
       "921    51     3  4.856935  52.363256  \n",
       "922   113     4  4.965731  52.375268  \n",
       "923    79     4  4.810678  52.355493  \n",
       "\n",
       "[924 rows x 8 columns]"
      ]
     },
     "execution_count": 6,
     "metadata": {},
     "output_type": "execute_result"
    }
   ],
   "source": [
    "data"
   ]
  },
  {
   "cell_type": "code",
   "execution_count": 7,
   "id": "05dc4d6f-76e8-4b7a-bc27-34b4211f16cc",
   "metadata": {},
   "outputs": [],
   "source": [
    "data= data.drop(\"Unnamed: 0\",axis=1)"
   ]
  },
  {
   "cell_type": "code",
   "execution_count": 8,
   "id": "910fc68e-5c75-4058-ae17-1ef1b0a5b4d7",
   "metadata": {},
   "outputs": [
    {
     "name": "stdout",
     "output_type": "stream",
     "text": [
      "<class 'pandas.core.frame.DataFrame'>\n",
      "RangeIndex: 924 entries, 0 to 923\n",
      "Data columns (total 7 columns):\n",
      " #   Column   Non-Null Count  Dtype  \n",
      "---  ------   --------------  -----  \n",
      " 0   Address  924 non-null    object \n",
      " 1   Zip      924 non-null    object \n",
      " 2   Price    920 non-null    float64\n",
      " 3   Area     924 non-null    int64  \n",
      " 4   Room     924 non-null    int64  \n",
      " 5   Lon      924 non-null    float64\n",
      " 6   Lat      924 non-null    float64\n",
      "dtypes: float64(3), int64(2), object(2)\n",
      "memory usage: 50.7+ KB\n"
     ]
    }
   ],
   "source": [
    "data.info()"
   ]
  },
  {
   "cell_type": "code",
   "execution_count": 9,
   "id": "62d5d30f-2e08-4867-a0d8-53559f454c14",
   "metadata": {},
   "outputs": [
    {
     "data": {
      "text/html": [
       "<div>\n",
       "<style scoped>\n",
       "    .dataframe tbody tr th:only-of-type {\n",
       "        vertical-align: middle;\n",
       "    }\n",
       "\n",
       "    .dataframe tbody tr th {\n",
       "        vertical-align: top;\n",
       "    }\n",
       "\n",
       "    .dataframe thead th {\n",
       "        text-align: right;\n",
       "    }\n",
       "</style>\n",
       "<table border=\"1\" class=\"dataframe\">\n",
       "  <thead>\n",
       "    <tr style=\"text-align: right;\">\n",
       "      <th></th>\n",
       "      <th>Price</th>\n",
       "      <th>Area</th>\n",
       "      <th>Room</th>\n",
       "      <th>Lon</th>\n",
       "      <th>Lat</th>\n",
       "    </tr>\n",
       "  </thead>\n",
       "  <tbody>\n",
       "    <tr>\n",
       "      <th>count</th>\n",
       "      <td>9.200000e+02</td>\n",
       "      <td>924.000000</td>\n",
       "      <td>924.000000</td>\n",
       "      <td>924.000000</td>\n",
       "      <td>924.000000</td>\n",
       "    </tr>\n",
       "    <tr>\n",
       "      <th>mean</th>\n",
       "      <td>6.220654e+05</td>\n",
       "      <td>95.952381</td>\n",
       "      <td>3.571429</td>\n",
       "      <td>4.888605</td>\n",
       "      <td>52.363326</td>\n",
       "    </tr>\n",
       "    <tr>\n",
       "      <th>std</th>\n",
       "      <td>5.389942e+05</td>\n",
       "      <td>57.447436</td>\n",
       "      <td>1.592332</td>\n",
       "      <td>0.053140</td>\n",
       "      <td>0.024028</td>\n",
       "    </tr>\n",
       "    <tr>\n",
       "      <th>min</th>\n",
       "      <td>1.750000e+05</td>\n",
       "      <td>21.000000</td>\n",
       "      <td>1.000000</td>\n",
       "      <td>4.644819</td>\n",
       "      <td>52.291519</td>\n",
       "    </tr>\n",
       "    <tr>\n",
       "      <th>25%</th>\n",
       "      <td>3.500000e+05</td>\n",
       "      <td>60.750000</td>\n",
       "      <td>3.000000</td>\n",
       "      <td>4.855834</td>\n",
       "      <td>52.352077</td>\n",
       "    </tr>\n",
       "    <tr>\n",
       "      <th>50%</th>\n",
       "      <td>4.670000e+05</td>\n",
       "      <td>83.000000</td>\n",
       "      <td>3.000000</td>\n",
       "      <td>4.886818</td>\n",
       "      <td>52.364631</td>\n",
       "    </tr>\n",
       "    <tr>\n",
       "      <th>75%</th>\n",
       "      <td>7.000000e+05</td>\n",
       "      <td>113.000000</td>\n",
       "      <td>4.000000</td>\n",
       "      <td>4.922337</td>\n",
       "      <td>52.377598</td>\n",
       "    </tr>\n",
       "    <tr>\n",
       "      <th>max</th>\n",
       "      <td>5.950000e+06</td>\n",
       "      <td>623.000000</td>\n",
       "      <td>14.000000</td>\n",
       "      <td>5.029122</td>\n",
       "      <td>52.423805</td>\n",
       "    </tr>\n",
       "  </tbody>\n",
       "</table>\n",
       "</div>"
      ],
      "text/plain": [
       "              Price        Area        Room         Lon         Lat\n",
       "count  9.200000e+02  924.000000  924.000000  924.000000  924.000000\n",
       "mean   6.220654e+05   95.952381    3.571429    4.888605   52.363326\n",
       "std    5.389942e+05   57.447436    1.592332    0.053140    0.024028\n",
       "min    1.750000e+05   21.000000    1.000000    4.644819   52.291519\n",
       "25%    3.500000e+05   60.750000    3.000000    4.855834   52.352077\n",
       "50%    4.670000e+05   83.000000    3.000000    4.886818   52.364631\n",
       "75%    7.000000e+05  113.000000    4.000000    4.922337   52.377598\n",
       "max    5.950000e+06  623.000000   14.000000    5.029122   52.423805"
      ]
     },
     "execution_count": 9,
     "metadata": {},
     "output_type": "execute_result"
    }
   ],
   "source": [
    "data.describe()"
   ]
  },
  {
   "cell_type": "code",
   "execution_count": 10,
   "id": "53b28dbe-3c7b-4b2a-9f51-72a834eec50a",
   "metadata": {},
   "outputs": [
    {
     "data": {
      "image/png": "[encoded data removed]",
      "text/plain": [
       "<Figure size 750x750 with 9 Axes>"
      ]
     },
     "metadata": {},
     "output_type": "display_data"
    }
   ],
   "source": [
    "import seaborn as sns\n",
    "sns.pairplot(data[['Price', 'Area', 'Room']], diag_kind='auto',corner=True)\n",
    "sns.set_theme(style=\"white\")"
   ]
  },
  {
   "cell_type": "code",
   "execution_count": 11,
   "id": "b238a86e-f8db-484a-9ae5-02d4d0f2e2cf",
   "metadata": {},
   "outputs": [],
   "source": [
    "area  = data[\"Area\"].quantile(0.8)\n",
    "price  = data[\"Price\"].quantile(0.8)\n",
    "room  = data[\"Room\"].quantile(0.8)\n",
    "\n",
    "data_class = data[(data[\"Area\"]<=area)&(data[\"Price\"]<=price)&(data[\"Room\"]<=room)]"
   ]
  },
  {
   "cell_type": "code",
   "execution_count": 12,
   "id": "f63b17a4-f8b9-4f80-932e-a5ca0e0bef80",
   "metadata": {},
   "outputs": [
    {
     "data": {
      "text/html": [
       "<div>\n",
       "<style scoped>\n",
       "    .dataframe tbody tr th:only-of-type {\n",
       "        vertical-align: middle;\n",
       "    }\n",
       "\n",
       "    .dataframe tbody tr th {\n",
       "        vertical-align: top;\n",
       "    }\n",
       "\n",
       "    .dataframe thead th {\n",
       "        text-align: right;\n",
       "    }\n",
       "</style>\n",
       "<table border=\"1\" class=\"dataframe\">\n",
       "  <thead>\n",
       "    <tr style=\"text-align: right;\">\n",
       "      <th></th>\n",
       "      <th>Price</th>\n",
       "      <th>Area</th>\n",
       "      <th>Room</th>\n",
       "      <th>Lon</th>\n",
       "      <th>Lat</th>\n",
       "    </tr>\n",
       "  </thead>\n",
       "  <tbody>\n",
       "    <tr>\n",
       "      <th>count</th>\n",
       "      <td>649.000000</td>\n",
       "      <td>649.000000</td>\n",
       "      <td>649.000000</td>\n",
       "      <td>649.000000</td>\n",
       "      <td>649.000000</td>\n",
       "    </tr>\n",
       "    <tr>\n",
       "      <th>mean</th>\n",
       "      <td>422350.192604</td>\n",
       "      <td>70.761171</td>\n",
       "      <td>2.912173</td>\n",
       "      <td>4.889147</td>\n",
       "      <td>52.363673</td>\n",
       "    </tr>\n",
       "    <tr>\n",
       "      <th>std</th>\n",
       "      <td>134097.794553</td>\n",
       "      <td>21.477593</td>\n",
       "      <td>0.781730</td>\n",
       "      <td>0.051890</td>\n",
       "      <td>0.024015</td>\n",
       "    </tr>\n",
       "    <tr>\n",
       "      <th>min</th>\n",
       "      <td>175000.000000</td>\n",
       "      <td>21.000000</td>\n",
       "      <td>1.000000</td>\n",
       "      <td>4.783188</td>\n",
       "      <td>52.291672</td>\n",
       "    </tr>\n",
       "    <tr>\n",
       "      <th>25%</th>\n",
       "      <td>325000.000000</td>\n",
       "      <td>54.000000</td>\n",
       "      <td>2.000000</td>\n",
       "      <td>4.852550</td>\n",
       "      <td>52.352717</td>\n",
       "    </tr>\n",
       "    <tr>\n",
       "      <th>50%</th>\n",
       "      <td>395000.000000</td>\n",
       "      <td>71.000000</td>\n",
       "      <td>3.000000</td>\n",
       "      <td>4.884769</td>\n",
       "      <td>52.365273</td>\n",
       "    </tr>\n",
       "    <tr>\n",
       "      <th>75%</th>\n",
       "      <td>500000.000000</td>\n",
       "      <td>87.000000</td>\n",
       "      <td>3.000000</td>\n",
       "      <td>4.926678</td>\n",
       "      <td>52.378753</td>\n",
       "    </tr>\n",
       "    <tr>\n",
       "      <th>max</th>\n",
       "      <td>785000.000000</td>\n",
       "      <td>120.000000</td>\n",
       "      <td>4.000000</td>\n",
       "      <td>5.016555</td>\n",
       "      <td>52.423805</td>\n",
       "    </tr>\n",
       "  </tbody>\n",
       "</table>\n",
       "</div>"
      ],
      "text/plain": [
       "               Price        Area        Room         Lon         Lat\n",
       "count     649.000000  649.000000  649.000000  649.000000  649.000000\n",
       "mean   422350.192604   70.761171    2.912173    4.889147   52.363673\n",
       "std    134097.794553   21.477593    0.781730    0.051890    0.024015\n",
       "min    175000.000000   21.000000    1.000000    4.783188   52.291672\n",
       "25%    325000.000000   54.000000    2.000000    4.852550   52.352717\n",
       "50%    395000.000000   71.000000    3.000000    4.884769   52.365273\n",
       "75%    500000.000000   87.000000    3.000000    4.926678   52.378753\n",
       "max    785000.000000  120.000000    4.000000    5.016555   52.423805"
      ]
     },
     "execution_count": 12,
     "metadata": {},
     "output_type": "execute_result"
    }
   ],
   "source": [
    "data_class.describe()"
   ]
  },
  {
   "cell_type": "code",
   "execution_count": 13,
   "id": "266a7302-14df-42b2-9129-c94fbabe3a5e",
   "metadata": {},
   "outputs": [
    {
     "data": {
      "image/png": "[encoded data removed]",
      "text/plain": [
       "<Figure size 750x750 with 9 Axes>"
      ]
     },
     "metadata": {},
     "output_type": "display_data"
    }
   ],
   "source": [
    "import seaborn as sns\n",
    "sns.pairplot(data_class[['Price', 'Area', 'Room']], diag_kind='auto',corner=True)\n",
    "sns.set_theme(style=\"white\")"
   ]
  },
  {
   "cell_type": "code",
   "execution_count": 14,
   "id": "f4631be9-b72a-4267-9bae-64526767e118",
   "metadata": {},
   "outputs": [
    {
     "data": {
      "text/plain": [
       "Address    0\n",
       "Zip        0\n",
       "Price      0\n",
       "Area       0\n",
       "Room       0\n",
       "Lon        0\n",
       "Lat        0\n",
       "dtype: int64"
      ]
     },
     "execution_count": 14,
     "metadata": {},
     "output_type": "execute_result"
    }
   ],
   "source": [
    "data_class.isnull().sum()"
   ]
  },
  {
   "cell_type": "code",
   "execution_count": 15,
   "id": "26db04c4-d10f-450f-befb-0689889b61a1",
   "metadata": {},
   "outputs": [],
   "source": [
    "numeric_data = data_class.select_dtypes(include=['number'])\n",
    "numeric_data = numeric_data.dropna()\n",
    "\n",
    "X = numeric_data[['Area', 'Room', 'Lon', 'Lat']]\n",
    "y = numeric_data['Price']"
   ]
  },
  {
   "cell_type": "code",
   "execution_count": 16,
   "id": "2ddcc108-1ecc-4243-bcf8-13e451f1c086",
   "metadata": {},
   "outputs": [],
   "source": [
    "X_train, X_test, y_train, y_test = train_test_split(X, y, test_size=0.3, random_state=42)"
   ]
  },
  {
   "cell_type": "code",
   "execution_count": 17,
   "id": "8f031163-b686-4df6-b5cf-7c28f415650f",
   "metadata": {},
   "outputs": [],
   "source": [
    "models = [\n",
    "    (\"Linear Regression\", LinearRegression()),\n",
    "    (\"Lasso Regression\", Lasso(alpha=0.1)),\n",
    "    (\"Ridge Regression\", Ridge(alpha=0.1)),\n",
    "    (\"Decision Tree\", DecisionTreeRegressor()),\n",
    "    (\"Random Forest\", RandomForestRegressor()),\n",
    "    (\"Gradient Boosting\", GradientBoostingRegressor()),\n",
    "    (\"K-Nearest Neighbors\", KNeighborsRegressor(n_neighbors=2)),\n",
    "]"
   ]
  },
  {
   "cell_type": "code",
   "execution_count": 18,
   "id": "408ab342-243b-4e6b-844c-f89b45a7e7d6",
   "metadata": {},
   "outputs": [],
   "source": [
    "# Initialize lists to store model performance scores\n",
    "mae_scores = []\n",
    "mse_scores = []\n",
    "rmse_scores = []\n",
    "r2_scores = []"
   ]
  },
  {
   "cell_type": "code",
   "execution_count": 19,
   "id": "8f5803fe-f6fd-4d22-a4fb-e4c0f2add0cc",
   "metadata": {},
   "outputs": [],
   "source": [
    "# Perform cross-validation for each model\n",
    "for name, model in models:\n",
    "    kf = KFold(n_splits=3,shuffle=True,random_state=42)\n",
    "    mae = -cross_val_score(model, X_train, y_train, cv=kf, scoring='neg_mean_absolute_error').mean()\n",
    "    mse = -cross_val_score(model, X_train, y_train, cv=kf, scoring='neg_mean_squared_error').mean()\n",
    "    rmse = np.sqrt(mse)\n",
    "    r2 = cross_val_score(model, X_train, y_train, cv=kf, scoring='r2').mean()\n",
    "    mae_scores.append(mae)\n",
    "    mse_scores.append(mse)\n",
    "    rmse_scores.append(rmse)\n",
    "    r2_scores.append(r2)"
   ]
  },
  {
   "cell_type": "code",
   "execution_count": 20,
   "id": "5b996839-b5a3-41d6-8b4b-0c27d3d7bdc0",
   "metadata": {},
   "outputs": [],
   "source": [
    "# Create a DataFrame to compare model performance\n",
    "results_df = pd.DataFrame({\n",
    "    \"Model\": [name for name, _ in models],\n",
    "    \"MAE\": mae_scores,\n",
    "    \"MSE\": mse_scores,\n",
    "    \"RMSE\": rmse_scores,\n",
    "    \"R2\": r2_scores\n",
    "})"
   ]
  },
  {
   "cell_type": "code",
   "execution_count": 21,
   "id": "f7d31674-e557-44c6-aa64-a6ad760f592c",
   "metadata": {},
   "outputs": [
    {
     "name": "stdout",
     "output_type": "stream",
     "text": [
      "Best Model : Gradient Boosting with accuracy : 0.7899627969994899\n"
     ]
    }
   ],
   "source": [
    "max = 0\n",
    "for i in range(len(results_df['R2'])):\n",
    "    if i==(len(results_df['R2']))-1:\n",
    "        if results_df['R2'][i]>results_df['R2'][max]:\n",
    "            max = i\n",
    "    else:\n",
    "        if results_df['R2'][i]>results_df['R2'][i+1]:\n",
    "               max= i\n",
    "print(f\"Best Model : {results_df['Model'][max]} with accuracy : {results_df['R2'][max]}\")"
   ]
  },
  {
   "cell_type": "code",
   "execution_count": 22,
   "id": "942e662d-d46f-4eb2-b54b-483b8d14f139",
   "metadata": {},
   "outputs": [
    {
     "data": {
      "text/html": [
       "<div>\n",
       "<style scoped>\n",
       "    .dataframe tbody tr th:only-of-type {\n",
       "        vertical-align: middle;\n",
       "    }\n",
       "\n",
       "    .dataframe tbody tr th {\n",
       "        vertical-align: top;\n",
       "    }\n",
       "\n",
       "    .dataframe thead th {\n",
       "        text-align: right;\n",
       "    }\n",
       "</style>\n",
       "<table border=\"1\" class=\"dataframe\">\n",
       "  <thead>\n",
       "    <tr style=\"text-align: right;\">\n",
       "      <th></th>\n",
       "      <th>Model</th>\n",
       "      <th>MAE</th>\n",
       "      <th>MSE</th>\n",
       "      <th>RMSE</th>\n",
       "      <th>R2</th>\n",
       "    </tr>\n",
       "  </thead>\n",
       "  <tbody>\n",
       "    <tr>\n",
       "      <th>0</th>\n",
       "      <td>Linear Regression</td>\n",
       "      <td>90585.252797</td>\n",
       "      <td>1.248769e+10</td>\n",
       "      <td>111748.324598</td>\n",
       "      <td>0.266252</td>\n",
       "    </tr>\n",
       "    <tr>\n",
       "      <th>1</th>\n",
       "      <td>Lasso Regression</td>\n",
       "      <td>90585.212418</td>\n",
       "      <td>1.248764e+10</td>\n",
       "      <td>111748.107979</td>\n",
       "      <td>0.266255</td>\n",
       "    </tr>\n",
       "    <tr>\n",
       "      <th>2</th>\n",
       "      <td>Ridge Regression</td>\n",
       "      <td>90756.173868</td>\n",
       "      <td>1.249396e+10</td>\n",
       "      <td>111776.367388</td>\n",
       "      <td>0.265606</td>\n",
       "    </tr>\n",
       "    <tr>\n",
       "      <th>3</th>\n",
       "      <td>Decision Tree</td>\n",
       "      <td>60446.467149</td>\n",
       "      <td>7.598256e+09</td>\n",
       "      <td>87167.976034</td>\n",
       "      <td>0.556062</td>\n",
       "    </tr>\n",
       "    <tr>\n",
       "      <th>4</th>\n",
       "      <td>Random Forest</td>\n",
       "      <td>45613.260967</td>\n",
       "      <td>3.679750e+09</td>\n",
       "      <td>60660.942329</td>\n",
       "      <td>0.786116</td>\n",
       "    </tr>\n",
       "    <tr>\n",
       "      <th>5</th>\n",
       "      <td>Gradient Boosting</td>\n",
       "      <td>43827.499520</td>\n",
       "      <td>3.553792e+09</td>\n",
       "      <td>59613.693629</td>\n",
       "      <td>0.789963</td>\n",
       "    </tr>\n",
       "    <tr>\n",
       "      <th>6</th>\n",
       "      <td>K-Nearest Neighbors</td>\n",
       "      <td>91994.827147</td>\n",
       "      <td>1.501485e+10</td>\n",
       "      <td>122535.087277</td>\n",
       "      <td>0.116523</td>\n",
       "    </tr>\n",
       "  </tbody>\n",
       "</table>\n",
       "</div>"
      ],
      "text/plain": [
       "                 Model           MAE           MSE           RMSE        R2\n",
       "0    Linear Regression  90585.252797  1.248769e+10  111748.324598  0.266252\n",
       "1     Lasso Regression  90585.212418  1.248764e+10  111748.107979  0.266255\n",
       "2     Ridge Regression  90756.173868  1.249396e+10  111776.367388  0.265606\n",
       "3        Decision Tree  60446.467149  7.598256e+09   87167.976034  0.556062\n",
       "4        Random Forest  45613.260967  3.679750e+09   60660.942329  0.786116\n",
       "5    Gradient Boosting  43827.499520  3.553792e+09   59613.693629  0.789963\n",
       "6  K-Nearest Neighbors  91994.827147  1.501485e+10  122535.087277  0.116523"
      ]
     },
     "execution_count": 22,
     "metadata": {},
     "output_type": "execute_result"
    }
   ],
   "source": [
    "results_df"
   ]
  },
  {
   "cell_type": "code",
   "execution_count": 23,
   "id": "3a456790-a0fd-493e-a9f0-b01acad7646c",
   "metadata": {},
   "outputs": [
    {
     "data": {
      "text/html": [
       "<style>#sk-container-id-1 {color: black;}#sk-container-id-1 pre{padding: 0;}#sk-container-id-1 div.sk-toggleable {background-color: white;}#sk-container-id-1 label.sk-toggleable__label {cursor: pointer;display: block;width: 100%;margin-bottom: 0;padding: 0.3em;box-sizing: border-box;text-align: center;}#sk-container-id-1 label.sk-toggleable__label-arrow:before {content: \"▸\";float: left;margin-right: 0.25em;color: #696969;}#sk-container-id-1 label.sk-toggleable__label-arrow:hover:before {color: black;}#sk-container-id-1 div.sk-estimator:hover label.sk-toggleable__label-arrow:before {color: black;}#sk-container-id-1 div.sk-toggleable__content {max-height: 0;max-width: 0;overflow: hidden;text-align: left;background-color: #f0f8ff;}#sk-container-id-1 div.sk-toggleable__content pre {margin: 0.2em;color: black;border-radius: 0.25em;background-color: #f0f8ff;}#sk-container-id-1 input.sk-toggleable__control:checked~div.sk-toggleable__content {max-height: 200px;max-width: 100%;overflow: auto;}#sk-container-id-1 input.sk-toggleable__control:checked~label.sk-toggleable__label-arrow:before {content: \"▾\";}#sk-container-id-1 div.sk-estimator input.sk-toggleable__control:checked~label.sk-toggleable__label {background-color: #d4ebff;}#sk-container-id-1 div.sk-label input.sk-toggleable__control:checked~label.sk-toggleable__label {background-color: #d4ebff;}#sk-container-id-1 input.sk-hidden--visually {border: 0;clip: rect(1px 1px 1px 1px);clip: rect(1px, 1px, 1px, 1px);height: 1px;margin: -1px;overflow: hidden;padding: 0;position: absolute;width: 1px;}#sk-container-id-1 div.sk-estimator {font-family: monospace;background-color: #f0f8ff;border: 1px dotted black;border-radius: 0.25em;box-sizing: border-box;margin-bottom: 0.5em;}#sk-container-id-1 div.sk-estimator:hover {background-color: #d4ebff;}#sk-container-id-1 div.sk-parallel-item::after {content: \"\";width: 100%;border-bottom: 1px solid gray;flex-grow: 1;}#sk-container-id-1 div.sk-label:hover label.sk-toggleable__label {background-color: #d4ebff;}#sk-container-id-1 div.sk-serial::before {content: \"\";position: absolute;border-left: 1px solid gray;box-sizing: border-box;top: 0;bottom: 0;left: 50%;z-index: 0;}#sk-container-id-1 div.sk-serial {display: flex;flex-direction: column;align-items: center;background-color: white;padding-right: 0.2em;padding-left: 0.2em;position: relative;}#sk-container-id-1 div.sk-item {position: relative;z-index: 1;}#sk-container-id-1 div.sk-parallel {display: flex;align-items: stretch;justify-content: center;background-color: white;position: relative;}#sk-container-id-1 div.sk-item::before, #sk-container-id-1 div.sk-parallel-item::before {content: \"\";position: absolute;border-left: 1px solid gray;box-sizing: border-box;top: 0;bottom: 0;left: 50%;z-index: -1;}#sk-container-id-1 div.sk-parallel-item {display: flex;flex-direction: column;z-index: 1;position: relative;background-color: white;}#sk-container-id-1 div.sk-parallel-item:first-child::after {align-self: flex-end;width: 50%;}#sk-container-id-1 div.sk-parallel-item:last-child::after {align-self: flex-start;width: 50%;}#sk-container-id-1 div.sk-parallel-item:only-child::after {width: 0;}#sk-container-id-1 div.sk-dashed-wrapped {border: 1px dashed gray;margin: 0 0.4em 0.5em 0.4em;box-sizing: border-box;padding-bottom: 0.4em;background-color: white;}#sk-container-id-1 div.sk-label label {font-family: monospace;font-weight: bold;display: inline-block;line-height: 1.2em;}#sk-container-id-1 div.sk-label-container {text-align: center;}#sk-container-id-1 div.sk-container {/* jupyter's `normalize.less` sets `[hidden] { display: none; }` but bootstrap.min.css set `[hidden] { display: none !important; }` so we also need the `!important` here to be able to override the default hidden behavior on the sphinx rendered scikit-learn.org. See: https://github.com/scikit-learn/scikit-learn/issues/21755 */display: inline-block !important;position: relative;}#sk-container-id-1 div.sk-text-repr-fallback {display: none;}</style><div id=\"sk-container-id-1\" class=\"sk-top-container\"><div class=\"sk-text-repr-fallback\"><pre>GradientBoostingRegressor()</pre><b>In a Jupyter environment, please rerun this cell to show the HTML representation or trust the notebook. <br />On GitHub, the HTML representation is unable to render, please try loading this page with nbviewer.org.</b></div><div class=\"sk-container\" hidden><div class=\"sk-item\"><div class=\"sk-estimator sk-toggleable\"><input class=\"sk-toggleable__control sk-hidden--visually\" id=\"sk-estimator-id-1\" type=\"checkbox\" checked><label for=\"sk-estimator-id-1\" class=\"sk-toggleable__label sk-toggleable__label-arrow\">GradientBoostingRegressor</label><div class=\"sk-toggleable__content\"><pre>GradientBoostingRegressor()</pre></div></div></div></div></div>"
      ],
      "text/plain": [
       "GradientBoostingRegressor()"
      ]
     },
     "execution_count": 23,
     "metadata": {},
     "output_type": "execute_result"
    }
   ],
   "source": [
    "model = GradientBoostingRegressor()\n",
    "model.fit(X_train, y_train)"
   ]
  },
  {
   "cell_type": "code",
   "execution_count": 24,
   "id": "d239d9d9-0b72-49d2-8383-b853960792f9",
   "metadata": {},
   "outputs": [],
   "source": [
    "#Calculate training accuracy\n",
    "y_train_pred = model.predict(X_train)\n",
    "train_r2 = r2_score(y_train, y_train_pred)"
   ]
  },
  {
   "cell_type": "code",
   "execution_count": 25,
   "id": "1492dd6b-1a4d-47f7-98ee-c4cc5372a360",
   "metadata": {},
   "outputs": [],
   "source": [
    "# Testing\n",
    "predicted_price = model.predict(X_test)"
   ]
  },
  {
   "cell_type": "code",
   "execution_count": 26,
   "id": "0fdd59af-9f71-4f66-8ead-5808a4aaf493",
   "metadata": {},
   "outputs": [],
   "source": [
    "# Calculate testing scores\n",
    "test_mae = mean_absolute_error(y_test, predicted_price)\n",
    "test_mse = mean_squared_error(y_test, predicted_price)\n",
    "test_rmse = mean_squared_error(y_test, predicted_price, squared=False)\n",
    "test_r2 = r2_score(y_test, predicted_price)"
   ]
  },
  {
   "cell_type": "code",
   "execution_count": 27,
   "id": "45a121d9-8722-4a0d-a829-4e52b3377188",
   "metadata": {},
   "outputs": [
    {
     "name": "stdout",
     "output_type": "stream",
     "text": [
      " \t SUMMARY \n",
      " Training accuracy : 0.9153170125009005 \n",
      " Testing accuracy : 0.7510249692649009\n"
     ]
    }
   ],
   "source": [
    "print(f' \\t SUMMARY \\n Training accuracy : {train_r2} \\n Testing accuracy : {test_r2}')"
   ]
  },
  {
   "cell_type": "code",
   "execution_count": null,
   "id": "0212b433-6ee3-4b02-bbcf-2738c774d533",
   "metadata": {},
   "outputs": [],
   "source": []
  }
 ],
 "metadata": {
  "kernelspec": {
   "display_name": "Python 3 (ipykernel)",
   "language": "python",
   "name": "python3"
  },
  "language_info": {
   "codemirror_mode": {
    "name": "ipython",
    "version": 3
   },
   "file_extension": ".py",
   "mimetype": "text/x-python",
   "name": "python",
   "nbconvert_exporter": "python",
   "pygments_lexer": "ipython3",
   "version": "3.12.1"
  }
 },
 "nbformat": 4,
 "nbformat_minor": 5
}
